{
  "nbformat": 4,
  "nbformat_minor": 0,
  "metadata": {
    "colab": {
      "name": "Копия блокнота \"cigarette_detection.ipynb\"",
      "provenance": []
    },
    "kernelspec": {
      "name": "python3",
      "display_name": "Python 3"
    },
    "language_info": {
      "name": "python"
    },
    "accelerator": "GPU"
  },
  "cells": [
    {
      "cell_type": "code",
      "metadata": {
        "id": "Y7fzWG9h5xvP"
      },
      "source": [
        "%cd /content/drive/MyDrive/images/val\n",
        "%mkdir images\n",
        "%mkdir labels"
      ],
      "execution_count": null,
      "outputs": []
    },
    {
      "cell_type": "code",
      "metadata": {
        "id": "ZRlck81YDGob"
      },
      "source": [
        "# подготовка данных перед обучением (перемещение файлов в папки labels и images)\n",
        "import glob\n",
        "import os\n",
        "\n",
        "new_path = '/content/drive/MyDrive/images/val/labels/'\n",
        "\n",
        "boxes_names = glob.glob('/content/drive/MyDrive/images/val/*.txt')\n",
        "\n",
        "file_names = []\n",
        "for st in boxes_names:\n",
        "    file_names.append(st[st.rindex('/')+1 ::])\n",
        "\n",
        "for i in range(len(file_names)):\n",
        "    os.rename(boxes_names[i], new_path + file_names[i])"
      ],
      "execution_count": null,
      "outputs": []
    },
    {
      "cell_type": "code",
      "metadata": {
        "id": "BSNkqUETNit7"
      },
      "source": [
        "!git clone https://github.com/ultralytics/yolov5"
      ],
      "execution_count": null,
      "outputs": []
    },
    {
      "cell_type": "code",
      "metadata": {
        "colab": {
          "base_uri": "https://localhost:8080/"
        },
        "id": "9FCdg3PcO1d6",
        "outputId": "9c48ce56-ea86-47fd-9b09-cf044187ea29"
      },
      "source": [
        "%cd /content/drive/MyDrive/cigarette_detection/yolov5/"
      ],
      "execution_count": null,
      "outputs": [
        {
          "output_type": "stream",
          "name": "stdout",
          "text": [
            "/content/drive/MyDrive/cigarette_detection/yolov5\n"
          ]
        }
      ]
    },
    {
      "cell_type": "code",
      "metadata": {
        "id": "DTvjehG6NgIx"
      },
      "source": [
        "!python train.py --img 640 --batch 64 --epochs 300 --data dataset.yaml --weights '/content/drive/MyDrive/cigarette_detection/yolov5/runs/train/exp30/weights/best.pt'"
      ],
      "execution_count": null,
      "outputs": []
    },
    {
      "cell_type": "code",
      "metadata": {
        "id": "7A0jqvaf0XnI"
      },
      "source": [
        "!python detect.py --weights '/content/drive/MyDrive/cigarette_detection/yolov5/runs/train/exp30/weights/best.pt' --source '/content/drive/MyDrive/cigarette_detection/00182.jpg'"
      ],
      "execution_count": null,
      "outputs": []
    }
  ]
}